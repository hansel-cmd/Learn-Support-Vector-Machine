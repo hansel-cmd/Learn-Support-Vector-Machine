{
 "cells": [
  {
   "cell_type": "markdown",
   "id": "770f0699",
   "metadata": {},
   "source": [
    "# Necessary Imports"
   ]
  },
  {
   "cell_type": "code",
   "execution_count": 163,
   "id": "d983e9e4",
   "metadata": {},
   "outputs": [],
   "source": [
    "# helps for scientific computing: ndarray, etc.\n",
    "import numpy as np\n",
    "\n",
    "# helps create new data structure called data frames\n",
    "import pandas as pd\n",
    "\n",
    "# helps for plotting visualization\n",
    "import matplotlib.pyplot as plt\n",
    "\n",
    "# sklearn is for machine learning\n",
    "from sklearn import svm\n",
    "from sklearn.model_selection import KFold\n",
    "from sklearn.model_selection import train_test_split\n",
    "from sklearn.model_selection import cross_val_score\n",
    "from sklearn import metrics"
   ]
  },
  {
   "cell_type": "markdown",
   "id": "1ac5f4ee",
   "metadata": {},
   "source": [
    "# About the data set"
   ]
  },
  {
   "cell_type": "markdown",
   "id": "997b74d5",
   "metadata": {},
   "source": [
    "There are 10 predictors (column/attributes) in each 700 rows (instances/record).\n",
    "\n",
    "|Field Name|Description|\n",
    "|---|---|\n",
    "|ID| Identification|\n",
    "|Clump | Clump thickness|\n",
    "|UnifSize| Uniformity fo cell size|\n",
    "|UnifShape| Uniformity of cell shape|\n",
    "|MargAdh| Marginal adhesion|\n",
    "|SingEpiSize| Single epithelial cell size|\n",
    "|BareNuc| Bare nuclei|\n",
    "|BlandChrom| Bland chromatin|\n",
    "|NormNucl| Normal nucleoli|\n",
    "|Mit| Mitoses|\n",
    "|Class| Benign or malignant|"
   ]
  },
  {
   "cell_type": "markdown",
   "id": "48f99e80",
   "metadata": {},
   "source": [
    "# Load data from CSV File"
   ]
  },
  {
   "cell_type": "code",
   "execution_count": 154,
   "id": "66cc5726",
   "metadata": {},
   "outputs": [
    {
     "data": {
      "text/plain": [
       "2    0.655222\n",
       "4    0.344778\n",
       "Name: Class, dtype: float64"
      ]
     },
     "execution_count": 154,
     "metadata": {},
     "output_type": "execute_result"
    }
   ],
   "source": [
    "# returns data frames \n",
    "cell_df = pd.read_csv('cell_samples.csv')\n",
    "\n",
    "cell_df.tail()\n",
    "\n",
    "# (699, 11)\n",
    "cell_df.shape\n",
    "\n",
    "# tells how many records are present in an attribute/column\n",
    "cell_df.count()\n",
    "\n",
    "# tells how many values are present in an attribute/column\n",
    "# 60:40 slightly imbalance\n",
    "# 90:10 severe imbalance\n",
    "cell_df['Class'].value_counts(normalize=True)\n"
   ]
  },
  {
   "cell_type": "markdown",
   "id": "1e395ccd",
   "metadata": {},
   "source": [
    "# Distribution of the classes/target column"
   ]
  },
  {
   "cell_type": "code",
   "execution_count": 60,
   "id": "2959cdc1",
   "metadata": {
    "collapsed": true
   },
   "outputs": [
    {
     "data": {
      "text/plain": [
       "<AxesSubplot:xlabel='Clump', ylabel='UnifSize'>"
      ]
     },
     "execution_count": 60,
     "metadata": {},
     "output_type": "execute_result"
    },
    {
     "data": {
      "image/png": "[encoded data removed]",
      "text/plain": [
       "<Figure size 432x288 with 1 Axes>"
      ]
     },
     "metadata": {
      "needs_background": "light"
     },
     "output_type": "display_data"
    }
   ],
   "source": [
    "# get the records/rows in an attribute that satisfies the condition\n",
    "# [0:200] means get 0 to 199.\n",
    "malignant_df = cell_df[ cell_df['Class'] == 2 ][0:200]\n",
    "benign_df = cell_df[ cell_df['Class'] == 4][0:200]\n",
    "\n",
    "# show help of the particular method\n",
    "# help(malignant_df.plot)\n",
    "\n",
    "# creates a scatter plot, x and y values should be a valid field name\n",
    "# in the dataframe\n",
    "# returns axes\n",
    "axes = malignant_df.plot(kind = 'scatter', x = 'Clump', y = 'UnifSize', label = 'malignant', color = 'blue')\n",
    "benign_df.plot(kind = 'scatter', x = 'Clump', y = 'UnifSize', label = 'benign', color = 'red', ax = axes)"
   ]
  },
  {
   "cell_type": "markdown",
   "id": "f3873d5e",
   "metadata": {},
   "source": [
    "# Identifying unwanted rows"
   ]
  },
  {
   "cell_type": "code",
   "execution_count": 72,
   "id": "cd51f524",
   "metadata": {
    "collapsed": true
   },
   "outputs": [
    {
     "data": {
      "text/plain": [
       "ID             int64\n",
       "Clump          int64\n",
       "UnifSize       int64\n",
       "UnifShape      int64\n",
       "MargAdh        int64\n",
       "SingEpiSize    int64\n",
       "BareNuc        int32\n",
       "BlandChrom     int64\n",
       "NormNucl       int64\n",
       "Mit            int64\n",
       "Class          int64\n",
       "dtype: object"
      ]
     },
     "execution_count": 72,
     "metadata": {},
     "output_type": "execute_result"
    }
   ],
   "source": [
    "# verify if data types of the column is a numeric value\n",
    "# we need numeric value so we can perform mathematical operations\n",
    "cell_df.dtypes\n",
    "\n",
    "# convert/transform data types of BareNuc column VALUES using .to_numeric()\n",
    "# .to_numeric() returns data frames,\n",
    "# pick only rows that cannot be converted into numeric by calling .notnull(),\n",
    "# this, in turn, becomes a condition, thus, affects rows in an attribute BareNuc\n",
    "# that satisfies the condition returned by .notnull()\n",
    "cell_df = cell_df[ pd.to_numeric(cell_df['BareNuc'], errors = 'coerce').notnull() ]\n",
    "\n",
    "# convert how data type of BareNuc column ITSELF\n",
    "# returns a casted\n",
    "cell_df['BareNuc'] = cell_df['BareNuc'].astype('int')\n",
    "cell_df.dtypes"
   ]
  },
  {
   "cell_type": "markdown",
   "id": "bdbad644",
   "metadata": {},
   "source": [
    "# Remove unwanted columns/attributes\n",
    "\n",
    "We now try to separate columns/attributes to independent and dependent\n",
    "columns."
   ]
  },
  {
   "cell_type": "code",
   "execution_count": 153,
   "id": "59122841",
   "metadata": {},
   "outputs": [],
   "source": [
    "# shows the columns of the data frames\n",
    "'''\n",
    "['ID', 'Clump', 'UnifSize', 'UnifShape', 'MargAdh', 'SingEpiSize',\n",
    "       'BareNuc', 'BlandChrom', 'NormNucl', 'Mit', 'Class']\n",
    "'''\n",
    "cell_df.columns\n",
    "\n",
    "# Drop ID column and we dont need Class for the independent column\n",
    "# Selects only columns that are in the array\n",
    "feature_df = cell_df[ ['Clump', 'UnifSize', 'UnifShape', 'MargAdh', 'SingEpiSize',\n",
    "       'BareNuc', 'BlandChrom', 'NormNucl', 'Mit'] ]\n",
    "feature_df\n",
    "\n",
    "# convert data frames to ndarray to be used in the train/test split\n",
    "# independent variable, capital X means 2D array\n",
    "X = np.asarray(feature_df)\n",
    "\n",
    "# dependent variable, small y means 1D array: of the attribute column\n",
    "y = np.asarray(cell_df['Class'])\n"
   ]
  },
  {
   "cell_type": "markdown",
   "id": "d4f69bfc",
   "metadata": {},
   "source": [
    "# Divide the data as Train/Test dataset"
   ]
  },
  {
   "cell_type": "markdown",
   "id": "70fbf2d3",
   "metadata": {},
   "source": [
    "## train_test_split()"
   ]
  },
  {
   "cell_type": "code",
   "execution_count": 114,
   "id": "319208ec",
   "metadata": {},
   "outputs": [
    {
     "data": {
      "text/plain": [
       "(137,)"
      ]
     },
     "execution_count": 114,
     "metadata": {},
     "output_type": "execute_result"
    }
   ],
   "source": [
    "# For this one, let's try the simple train_test_split() method\n",
    "'''\n",
    "Train(X, y) => X: 2D array, y: 1D array\n",
    "Test(X, y) => X: 2D array, y: 1D array\n",
    "'''\n",
    "# splits X and y into 4 ndarrays\n",
    "X_train, X_test, y_train, y_test = train_test_split(X, y, random_state = 4, test_size = 0.2)\n",
    "\n",
    "\n",
    "# 546 x 9\n",
    "X_train.shape\n",
    "\n",
    "# 137 x 9\n",
    "X_test.shape\n",
    "\n",
    "# 546 x 1\n",
    "y_train.shape\n",
    "\n",
    "# 137 x 1\n",
    "y_test.shape"
   ]
  },
  {
   "cell_type": "markdown",
   "id": "f4ada6dd",
   "metadata": {},
   "source": [
    "## K-Fold Cross Validation"
   ]
  },
  {
   "cell_type": "code",
   "execution_count": 201,
   "id": "4bf24047",
   "metadata": {},
   "outputs": [
    {
     "name": "stdout",
     "output_type": "stream",
     "text": [
      "0.9645467421270473\n",
      "0.9681726249206258\n"
     ]
    }
   ],
   "source": [
    "# WE USE THIS METHOD TO EVALUATE DIFFERENT MACHINE LEARNING MODELS.\n",
    "# WHATEVER MODEL HAS THE HIGHEST SCORE, WE CHOOSE IT.\n",
    "\n",
    "kfold = KFold(n_splits = 10)\n",
    "\n",
    "# demo on how K-Fold splits the data\n",
    "'''\n",
    "[1 2 3 4 5 6 7 8 9] [0]\n",
    "[0 2 3 4 5 6 7 8 9] [1]\n",
    "[0 1 3 4 5 6 7 8 9] [2]\n",
    "[0 1 2 4 5 6 7 8 9] [3]\n",
    "[0 1 2 3 5 6 7 8 9] [4]\n",
    "[0 1 2 3 4 6 7 8 9] [5]\n",
    "[0 1 2 3 4 5 7 8 9] [6]\n",
    "[0 1 2 3 4 5 6 8 9] [7]\n",
    "[0 1 2 3 4 5 6 7 9] [8]\n",
    "[0 1 2 3 4 5 6 7 8] [9]\n",
    "'''\n",
    "# for train_index, test_index in kfold.split([1,2,3,4,5,6,7,8,9, 10]):\n",
    "#     print(train_index, test_index)   \n",
    "\n",
    "# MANUAL\n",
    "scores_svm_1 = []\n",
    "for train_index, test_index in kfold.split(X):\n",
    "    X_train, X_test, y_train, y_test = X[train_index], X[test_index], y[train_index], y[test_index]\n",
    "    scores_svm_1.append(get_score_1(svm.SVC(), X_train, X_test, y_train, y_test))\n",
    "print(sum(scores_svm_1) / len(scores_svm_1))\n",
    "\n",
    "# USING CROSS_VAL_SCORE\n",
    "f1 = metrics.make_scorer(metrics.f1_score, average='macro')    \n",
    "scores_svm_3 = cross_val_score(svm.SVC(), X, y, cv = 10, scoring = f1)\n",
    "print(sum(scores_svm_3) / len(scores_svm_3))\n",
    "\n",
    "\n",
    "# shows the available scoring keys for cross_val_score() function\n",
    "# sorted(metrics.SCORERS.keys())"
   ]
  },
  {
   "cell_type": "code",
   "execution_count": 199,
   "id": "886745fd",
   "metadata": {},
   "outputs": [],
   "source": [
    "# we should choose f1_score because we are dealing with medical diagnosis,\n",
    "# we cannot afford to miss negative cases, neither should we diagnose positive ones\n",
    "# as negative ones. Doing so would put healthy people though serious treatment and \n",
    "# decrease trust in the whole diagnostic process\n",
    "def get_score_1(model, X_train, X_test, y_train, y_test, metric = 'f1_score'):\n",
    "    model.fit(X_train, y_train)\n",
    "    predictions = model.predict(X_test)\n",
    "    if metric == 'accuracy':\n",
    "        return metrics.accuracy_score(y_true = y_test, y_pred = predictions)\n",
    "    \n",
    "    # precision should take into consideration the pos_label [2, 4]\n",
    "    if metric == 'precision':\n",
    "        pass\n",
    "    \n",
    "    # recall should take into consideration the pos_label [2, 4]\n",
    "    if metric == 'recall':\n",
    "        pass\n",
    "    \n",
    "    # f1_score should take into consideration the pos_label [2, 4]\n",
    "    if metric == 'f1_score':\n",
    "        # class_2 is class_0 but the dataset has [2, 4] instead of [0, 1]\n",
    "        # class_4 is class_1 but the dataset has [2, 4] instead of [0, 1]\n",
    "        class_2 = metrics.f1_score(y_true = y_test, y_pred = predictions, pos_label = 2)\n",
    "        class_4 = metrics.f1_score(y_true = y_test, y_pred = predictions, pos_label = 4)\n",
    "        return (class_2 + class_4) / 2"
   ]
  },
  {
   "cell_type": "markdown",
   "id": "48d57a78",
   "metadata": {},
   "source": [
    "# Modeling (SVM with Scikit-learn)\n",
    "\n",
    "[https://scikit-learn.org/stable/modules/svm.html](https://scikit-learn.org/stable/modules/svm.html)\n",
    "\n",
    "gamma:  how much influence a single training example has. The larger gamma is, the closer other examples must be to be affected.\n",
    "\n",
    "C: trades off misclassification of training examples against simplicity of the decision surface. A low C makes the decision surface smooth, while a high C aims at classifying all training examples correctly.\n",
    "\n",
    "To get the best gamma and C values, one must perform [GridSearchCV](https://scikit-learn.org/stable/modules/generated/sklearn.model_selection.GridSearchCV.html#sklearn.model_selection.GridSearchCV)."
   ]
  },
  {
   "cell_type": "code",
   "execution_count": 115,
   "id": "55f7b2fa",
   "metadata": {},
   "outputs": [],
   "source": [
    "# returns a classifier\n",
    "clf = svm.SVC(kernel='linear', gamma='auto', C=2)\n",
    "# .fit() accepts training parameters,\n",
    "# independent values/variables, x, and its \n",
    "# corresponding dependent values/variables, y\n",
    "clf.fit(X_train, y_train)\n",
    "\n",
    "# .predict() accepts a parameter for testing,\n",
    "# it must be the values that are not yet seen by the model\n",
    "predictions = clf.predict(X_test)"
   ]
  },
  {
   "cell_type": "markdown",
   "id": "7255ff3e",
   "metadata": {},
   "source": [
    "# Evaluation (Results) for train_test_split()\n",
    "[Interpreting classification report](https://datascience.stackexchange.com/questions/64441/how-to-interpret-classification-report-of-scikit-learn)\n",
    "\n",
    "\n",
    "[Accuracy Paradox](https://deepchecks.com/how-to-check-the-accuracy-of-your-machine-learning-model/)\n",
    "The default form of accuracy gives an overall metric about model performance on the whole dataset.\n",
    "\n",
    "However, overall accuracy can be misleading when the class distribution is imbalanced, and it is critical to predict the minority class correctly.\n",
    "\n",
    "For example, in cancer prediction, we cannot miss malignant cases. Neither should we diagnose benign ones as malignant. Doing so would put healthy people through serious treatment and decrease trust in the whole diagnostic process.\n",
    "\n",
    "[Micro, Macro, Weighted Averages](https://towardsdatascience.com/micro-macro-weighted-averages-of-f1-score-clearly-explained-b603420b292f)\n",
    "- Definition of Precision, Recall, f1 scores and how to calculate them.\n",
    "- Which average should I choose?\n",
    "- Explains why there is no accuracy for precision and recall\n",
    "- IMPORTANT"
   ]
  },
  {
   "cell_type": "code",
   "execution_count": 138,
   "id": "2afc91b7",
   "metadata": {},
   "outputs": [
    {
     "name": "stdout",
     "output_type": "stream",
     "text": [
      "0.9635036496350365\n",
      "              precision    recall  f1-score   support\n",
      "\n",
      "           2       1.00      0.94      0.97        90\n",
      "           4       0.90      1.00      0.95        47\n",
      "\n",
      "    accuracy                           0.96       137\n",
      "   macro avg       0.95      0.97      0.96       137\n",
      "weighted avg       0.97      0.96      0.96       137\n",
      "\n"
     ]
    }
   ],
   "source": [
    "# # this can be used too, but only for accuracy(?)\n",
    "# clf.score(X_test, y_test)\n",
    "\n",
    "# For evaluation, compare the predictions of the model and the y_test which is\n",
    "# the true y value for the X_test\n",
    "accuracy_score = metrics.accuracy_score(y_true = y_test, y_pred = predictions)\n",
    "\n",
    "print(clf.score(X_test, y_test))\n",
    "print(metrics.classification_report(y_test, y_pred = predictions))"
   ]
  },
  {
   "cell_type": "markdown",
   "id": "7855a66b",
   "metadata": {},
   "source": [
    "# Confusion Matrix for train_test_split()"
   ]
  },
  {
   "cell_type": "code",
   "execution_count": 142,
   "id": "dc0baf77",
   "metadata": {},
   "outputs": [
    {
     "name": "stdout",
     "output_type": "stream",
     "text": [
      "[[85  5]\n",
      " [ 0 47]]\n"
     ]
    },
    {
     "data": {
      "text/plain": [
       "<sklearn.metrics._plot.confusion_matrix.ConfusionMatrixDisplay at 0x2ba20510340>"
      ]
     },
     "execution_count": 142,
     "metadata": {},
     "output_type": "execute_result"
    },
    {
     "data": {
      "image/png": "[encoded data removed]",
      "text/plain": [
       "<Figure size 432x288 with 2 Axes>"
      ]
     },
     "metadata": {
      "needs_background": "light"
     },
     "output_type": "display_data"
    }
   ],
   "source": [
    "# # confusion matrix\n",
    "cm = metrics.confusion_matrix(y_test, y_pred = predictions)\n",
    "print(cm)\n",
    "\n",
    "cm_display = metrics.ConfusionMatrixDisplay(confusion_matrix = cm, display_labels = [2, 4])\n",
    "cm_display.plot()"
   ]
  }
 ],
 "metadata": {
  "kernelspec": {
   "display_name": "Python 3 (ipykernel)",
   "language": "python",
   "name": "python3"
  },
  "language_info": {
   "codemirror_mode": {
    "name": "ipython",
    "version": 3
   },
   "file_extension": ".py",
   "mimetype": "text/x-python",
   "name": "python",
   "nbconvert_exporter": "python",
   "pygments_lexer": "ipython3",
   "version": "3.9.7"
  }
 },
 "nbformat": 4,
 "nbformat_minor": 5
}
