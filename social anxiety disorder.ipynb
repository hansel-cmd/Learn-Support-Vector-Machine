{
 "cells": [
  {
   "cell_type": "markdown",
   "id": "09d36fdc",
   "metadata": {},
   "source": [
    "# Necessary Imports"
   ]
  },
  {
   "cell_type": "code",
   "execution_count": 54,
   "id": "fe233ab2",
   "metadata": {},
   "outputs": [],
   "source": [
    "# helps for scientific computing: ndarray, etc.\n",
    "import numpy as np\n",
    "\n",
    "# helps create new data structure called data frames\n",
    "import pandas as pd\n",
    "\n",
    "# helps for plotting visualization\n",
    "import matplotlib.pyplot as plt\n",
    "\n",
    "# sklearn is for machine learning\n",
    "from sklearn import svm\n",
    "from sklearn.model_selection import KFold\n",
    "from sklearn.model_selection import cross_val_score\n",
    "from sklearn import metrics"
   ]
  },
  {
   "cell_type": "markdown",
   "id": "9168c7cf",
   "metadata": {},
   "source": [
    "# About the dataset\n",
    "\n",
    "There are 30 predictors (relevant column / attributes) excluding the ID column in each 214 rows (instances/records).\n",
    "\n",
    "|Field Name|Description|\n",
    "|---|---|\n",
    "| ID | patient identification number|\n",
    "| Age | age in years |\n",
    "| EducationLevel | Education level ( 1=High School; 2=Diploma; 3=Undergraduate; 4=Bachelor degree; 5=Master degree; 6=Post-graduate) |\n",
    "| Gender | sex (1 = male; 0 = female) |\n",
    "| HasFamilyHistory | Family history of anxiety or depression (1 = yes; 0 = no) |\n",
    "| Occupation | (1=Student; 2=Faculty member; 3=Employee; 4=self-employment; 5=Unemployed ) |\n",
    "| ATF | The fear of being at the center of attention (Range=0-10) |\n",
    "| EAF | The fear of eating in front of another person (Range=0-10) |\n",
    "| TKF | The fear of speaking in public (Range=0-10) |\n",
    "| CMT | The fear of attending parties (Range=0-10) |\n",
    "| DEF | The fear of eating and drinking in public places(Range=0-10) |\n",
    "| SMF | The fear of meeting or contact with strangers (Range=0-10) |\n",
    "| ERF | The fear of getting in a room where others are sitting (Range=0-10) |\n",
    "| DAF | The fear of disagreement with strangers (Range=0-10) |\n",
    "| HR | Has heart palpitations (1=yes; 0=no ) |\n",
    "| SW | Has sweating (1=yes; 0=no ) |\n",
    "| TR | Has a tremor (1=yes; 0=no ) |\n",
    "| DR | Has dry mouth (1=yes; 0=no ) |\n",
    "| BR | Has hard breathing (1=yes; 0=no ) |\n",
    "| CK | Has  a feeling of suffocation (1=yes; 0=no ) |\n",
    "| CP | Has chest pain (1=yes; 0=no ) |\n",
    "| NS | Has gastrointestinal discomfort and nausea (1=yes; 0=no ) |\n",
    "| DZ | Has a feeling of dizzy, weak and sick (1=yes; 0=no ) |\n",
    "| UR | Has a feeling of being unreal (1=yes; 0=no ) |\n",
    "| UB | Has a fear of losing balance (1=yes; 0=no ) |\n",
    "| MD | Has a fear of being crazy (1=yes; 0=no ) |\n",
    "| TG | Has numbness or moaning (1=yes; 0=no ) |\n",
    "| hasSAD | (1=yes; 0=no) |\n",
    "| SPIN | The result of the Social Phobia Inventory questionnaire (Range=0-68) |\n",
    "| LSAS | The result of the Liebowitz Social Anxiety Scale questionnaire (Range=0-144) |\n",
    "\n",
    "\n"
   ]
  },
  {
   "cell_type": "markdown",
   "id": "8bc84432",
   "metadata": {},
   "source": [
    "# Load data from CSV File"
   ]
  },
  {
   "cell_type": "code",
   "execution_count": 132,
   "id": "58848781",
   "metadata": {
    "collapsed": true
   },
   "outputs": [
    {
     "data": {
      "text/plain": [
       "id                    int64\n",
       "Age                   int64\n",
       "EducationLevel        int64\n",
       "Gender                int64\n",
       "HasFamilyHistory      int64\n",
       "Occupation            int64\n",
       "ATF                   int64\n",
       "EAF                   int64\n",
       "TKF                   int64\n",
       "CMT                   int64\n",
       "DEF                   int64\n",
       "SMF                   int64\n",
       "ERF                   int64\n",
       "DAF                   int64\n",
       "HR                    int64\n",
       "SW                    int64\n",
       "TR                    int64\n",
       "DR                    int64\n",
       "BR                    int64\n",
       "CK                    int64\n",
       "CP                    int64\n",
       "NS                    int64\n",
       "DZ                    int64\n",
       "UR                    int64\n",
       "UB                    int64\n",
       "MD                    int64\n",
       "TG                    int64\n",
       "hasSAD                int64\n",
       "SPIN                  int64\n",
       "LSAS                float64\n",
       "dtype: object"
      ]
     },
     "execution_count": 132,
     "metadata": {},
     "output_type": "execute_result"
    }
   ],
   "source": [
    "sad_df = pd.read_csv('dataset.csv')\n",
    "\n",
    "sad_df.tail()\n",
    "sad_df.head()\n",
    "\n",
    "# (214, 30)\n",
    "sad_df.shape\n",
    "\n",
    "# tells how many records are present in an attribute/column\n",
    "sad_df.count()\n",
    "\n",
    "# tells how many values are present in an attribute/column\n",
    "# 60:40 slightly imbalance\n",
    "# 90:10 severe imbalance\n",
    "# 51% : 48%\n",
    "# 111 : 103\n",
    "sad_df['hasSAD'].value_counts(normalize=False)\n",
    "\n",
    "\n",
    "sad_df.dtypes"
   ]
  },
  {
   "cell_type": "markdown",
   "id": "b6ff2383",
   "metadata": {},
   "source": [
    "# Distribution of classes"
   ]
  },
  {
   "cell_type": "code",
   "execution_count": 56,
   "id": "6b486549",
   "metadata": {
    "collapsed": true
   },
   "outputs": [
    {
     "data": {
      "text/plain": [
       "<AxesSubplot:xlabel='ATF', ylabel='EAF'>"
      ]
     },
     "execution_count": 56,
     "metadata": {},
     "output_type": "execute_result"
    },
    {
     "data": {
      "image/png": "[encoded data removed]",
      "text/plain": [
       "<Figure size 432x288 with 1 Axes>"
      ]
     },
     "metadata": {
      "needs_background": "light"
     },
     "output_type": "display_data"
    }
   ],
   "source": [
    "# get the records/rows in an attribute that satisfies the condition\n",
    "positive_df = sad_df[ sad_df['hasSAD'] == 1 ]\n",
    "negative_df = sad_df[ sad_df['hasSAD'] == 0 ]\n",
    "\n",
    "# creates a scatter plot, x and y values should be a valid field name in the dataframe\n",
    "# returns axes\n",
    "axes = positive_df.plot(kind='scatter', x = 'ATF', y = 'EAF', label = 'ATF', color = 'blue')\n",
    "negative_df.plot(kind='scatter', x = 'ATF', y = 'EAF', label = 'EAF', color = 'red', ax = axes)"
   ]
  },
  {
   "cell_type": "markdown",
   "id": "b9099f0d",
   "metadata": {},
   "source": [
    "\n",
    "# Identifying unwanted rows"
   ]
  },
  {
   "cell_type": "code",
   "execution_count": 61,
   "id": "413759cf",
   "metadata": {},
   "outputs": [],
   "source": [
    "# dtypes are of int64 so we don't have a problem here\n",
    "sad_df.dtypes\n",
    "\n",
    "# replaces NaN to 0\n",
    "sad_df.fillna(inplace = True, value = 0)"
   ]
  },
  {
   "cell_type": "markdown",
   "id": "25ba959e",
   "metadata": {},
   "source": [
    "# Remove unwanted columns/attributes\n",
    "\n",
    "We now try to separate columns/attributes to independent and dependent columns."
   ]
  },
  {
   "cell_type": "code",
   "execution_count": 65,
   "id": "28fc0e53",
   "metadata": {},
   "outputs": [],
   "source": [
    "'''\n",
    "['id', 'Age', 'EducationLevel', 'Gender', 'HasFamilyHistory',\n",
    "       'Occupation', 'ATF', 'EAF', 'TKF', 'CMT', 'DEF', 'SMF', 'ERF', 'DAF',\n",
    "       'HR', 'SW', 'TR', 'DR', 'BR', 'CK', 'CP', 'NS', 'DZ', 'UR', 'UB', 'MD',\n",
    "       'TG', 'hasSAD', 'SPIN', 'LSAS']\n",
    "'''\n",
    "# shows the columns of the data frames\n",
    "sad_df.columns\n",
    "\n",
    "# Drop ID column and we dont need hasSAD column for the independent attributes\n",
    "# Selects only columns that are in the array\n",
    "relevant_features_df = sad_df[ ['Age', 'EducationLevel', 'Gender', 'HasFamilyHistory',\n",
    "       'Occupation', 'ATF', 'EAF', 'TKF', 'CMT', 'DEF', 'SMF', 'ERF', 'DAF',\n",
    "       'HR', 'SW', 'TR', 'DR', 'BR', 'CK', 'CP', 'NS', 'DZ', 'UR', 'UB', 'MD',\n",
    "       'TG', 'SPIN', 'LSAS'] ]\n",
    "\n",
    "relevant_features_df\n",
    "\n",
    "# convert data frames to ndarray to be used in the cross validation, training and testing\n",
    "# independent variable, X : Uppercase X means 2D array\n",
    "X = np.asarray(relevant_features_df)\n",
    "\n",
    "# dependent variable, y : lowercase y means 1D array\n",
    "y = np.asarray(sad_df['hasSAD'])"
   ]
  },
  {
   "cell_type": "markdown",
   "id": "a2d3c689",
   "metadata": {},
   "source": [
    "# Preparing the model by creating a classifier\n",
    "[https://scikit-learn.org/stable/modules/svm.html](https://scikit-learn.org/stable/modules/svm.html)\n",
    "\n",
    "gamma:  how much influence a single training example has. The larger gamma is, the closer other examples must be to be affected.\n",
    "\n",
    "C: trades off misclassification of training examples against simplicity of the decision surface. A low C makes the decision surface smooth, while a high C aims at classifying all training examples correctly.\n",
    "\n",
    "To get the best gamma and C values, one must perform [GridSearchCV](https://scikit-learn.org/stable/modules/generated/sklearn.model_selection.GridSearchCV.html#sklearn.model_selection.GridSearchCV)."
   ]
  },
  {
   "cell_type": "code",
   "execution_count": 110,
   "id": "ed84c835",
   "metadata": {},
   "outputs": [],
   "source": [
    "# hyperparameter tuning: change parameters for this model\n",
    "clf = svm.SVC(kernel='linear')"
   ]
  },
  {
   "cell_type": "markdown",
   "id": "ebcd1f48",
   "metadata": {},
   "source": [
    "# K-Fold Cross Validation"
   ]
  },
  {
   "cell_type": "code",
   "execution_count": 126,
   "id": "e41c6617",
   "metadata": {
    "scrolled": true
   },
   "outputs": [
    {
     "name": "stdout",
     "output_type": "stream",
     "text": [
      "accuracy score: 0.97\n",
      "precision score: 0.98\n",
      "recall score: 0.96\n",
      "f1 score: 0.97\n"
     ]
    }
   ],
   "source": [
    "kfold = KFold(n_splits=10)\n",
    "\n",
    "# create a scorer for each metric\n",
    "accuracy = metrics.make_scorer(metrics.accuracy_score)\n",
    "precision = metrics.make_scorer(metrics.precision_score)\n",
    "recall = metrics.make_scorer(metrics.recall_score)\n",
    "f1 = metrics.make_scorer(metrics.f1_score)\n",
    "\n",
    "# evaluate accuracy, precision, recall, f1 scores using cross_val_score()\n",
    "accuracy_score = cross_val_score(clf, X, y, scoring = accuracy, cv = kfold)\n",
    "precision_score = cross_val_score(clf, X, y, scoring = precision, cv = kfold)\n",
    "recall_score = cross_val_score(clf, X, y, scoring = recall, cv = kfold)\n",
    "f1_score = cross_val_score(clf, X, y, scoring = f1, cv = kfold)\n",
    "\n",
    "\n",
    "# display scores for each metrics\n",
    "'''\n",
    "svm.SVC() with default kernel = 'rbf'\n",
    "make_scorers with average = 'macro'\n",
    "\n",
    "accuracy score: 0.9495670995670995\n",
    "precision score: 0.956067461949815\n",
    "recall score: 0.9550000000000001\n",
    "f1 score: 0.9536114718614719\n",
    "'''\n",
    "\n",
    "'''\n",
    "svm.SVC() with kernel = 'linear'\n",
    "make_scorers with average = 'macro'\n",
    "\n",
    "accuracy score: 0.9679653679653679\n",
    "precision score: 0.9695020053475936\n",
    "recall score: 0.9633116883116883\n",
    "f1 score: 0.9649963645678692\n",
    "'''\n",
    "\n",
    "'''\n",
    "svm.SVC() with kernel = 'linear'\n",
    "make_scorers with default average\n",
    "accuracy score: 0.9679653679653679\n",
    "precision score: 0.9755681818181818\n",
    "recall score: 0.96\n",
    "f1 score: 0.9664296255726347\n",
    "'''\n",
    "print(\"accuracy score:\", round(accuracy_score.mean(), 2))\n",
    "print(\"precision score:\", round(precision_score.mean(), 2))\n",
    "print(\"recall score:\", round(recall_score.mean(), 2))\n",
    "print(\"f1 score:\", round(f1_score.mean(), 2))\n"
   ]
  },
  {
   "cell_type": "markdown",
   "id": "688ae656",
   "metadata": {},
   "source": [
    "# Helper functions\n",
    "\n",
    "We need to create helper functions that get actual and predicted classes for each iteration of the cross validation. Remember that in a cross validation, each iteration will have different train and test sets, thus, we have to get those actual classes and predicted classes during that period. We compile all actual classes and predicted classes for all iteration to be passed on the confusion matrix. We have to do this so that we can see the performance of the model during the cross validation."
   ]
  },
  {
   "cell_type": "code",
   "execution_count": null,
   "id": "e1624e94",
   "metadata": {},
   "outputs": [],
   "source": [
    "# importing libraries\n",
    "\n",
    "import copy as cp\n",
    "import seaborn as sns\n",
    "from typing import Tuple"
   ]
  },
  {
   "cell_type": "code",
   "execution_count": null,
   "id": "a54a1ab3",
   "metadata": {},
   "outputs": [],
   "source": [
    "# calculate the predicted and actual classes\n",
    "# by creating a helper function\n",
    "\n",
    "'''\n",
    "cross_val_predict helper function does the ff:\n",
    "    1. Takes a local (deep) copy of the machine learning algorithm (model) to \n",
    "        avoid changing the one passed in\n",
    "    2. Iterates around the k cross-validation data folds (given that n_splits = k)\n",
    "    3. For each of the k splits, do the ff:\n",
    "        a. extracts the rows from the data for the training features, training target,\n",
    "            test features, and test target\n",
    "        b. appends the actual target classifications to `actual_classes`\n",
    "        c. Fits the machine learning model using the training data extracted from the\n",
    "            current fold\n",
    "        d. uses the fitted model to predict the target classifications for the test data\n",
    "            in the current fold\n",
    "        e. appends the predicted classes for the current fold of test data to `predicted_classes`\n",
    "    4. The helper function returns the full set of actual and predicted classes (classifications)\n",
    "        that can be used to plot a confusion matrix\n",
    "'''\n",
    "\n",
    "def cross_val_predict(\n",
    "    model, \n",
    "    kfold : KFold, \n",
    "    X : np.array, \n",
    "    y : np.array\n",
    ") -> Tuple[np.array, np.array]:\n",
    "    \n",
    "    model_ = cp.deepcopy(model)\n",
    "    \n",
    "    # gets the number of classes [0, 1] in the column/attribute\n",
    "    no_of_classes = len(np.unique(y))\n",
    "    \n",
    "    # initializing empty numpy arrays to be returned\n",
    "    actual_classes = np.empty([0], dtype = int)\n",
    "    predicted_classes = np.empty([0], dtype = int)\n",
    "    \n",
    "    '''\n",
    "    for train_index, test_index in \\ \n",
    "        kfold.split([0,1,2,3,4,5,6,7,8,9]) should\n",
    "    look like the below:\n",
    "    [1 2 3 4 5 6 7 8 9] [0]\n",
    "    [0 2 3 4 5 6 7 8 9] [1]\n",
    "    [0 1 3 4 5 6 7 8 9] [2]\n",
    "    [0 1 2 4 5 6 7 8 9] [3]\n",
    "    [0 1 2 3 5 6 7 8 9] [4]\n",
    "    [0 1 2 3 4 6 7 8 9] [5]\n",
    "    [0 1 2 3 4 5 7 8 9] [6]\n",
    "    [0 1 2 3 4 5 6 8 9] [7]\n",
    "    [0 1 2 3 4 5 6 7 9] [8]\n",
    "    [0 1 2 3 4 5 6 7 8] [9]\n",
    "    '''\n",
    "    \n",
    "    for train_index, test_index in kfold.split(X):\n",
    "        \n",
    "        X_train, X_test = X[train_index], X[test_index]\n",
    "        y_train, y_test = y[train_index], y[test_index]\n",
    "        \n",
    "        # append the actual classes : [...] for this iteration\n",
    "        actual_classes = np.append(actual_classes, y_test)\n",
    "        \n",
    "        # fit the model\n",
    "        model_.fit(X_train, y_train)\n",
    "        \n",
    "        # predict\n",
    "        predicted_classes = np.append(predicted_classes, model_.predict(X_test))\n",
    "        \n",
    "    return actual_classes, predicted_classes   "
   ]
  },
  {
   "cell_type": "markdown",
   "id": "35bbe7fc",
   "metadata": {},
   "source": [
    "# Evaluating results \n",
    "[Interpreting classification report](https://datascience.stackexchange.com/questions/64441/how-to-interpret-classification-report-of-scikit-learn)\n",
    "\n",
    "\n",
    "[Accuracy Paradox](https://deepchecks.com/how-to-check-the-accuracy-of-your-machine-learning-model/)\n",
    "The default form of accuracy gives an overall metric about model performance on the whole dataset.\n",
    "\n",
    "However, overall accuracy can be misleading when the class distribution is imbalanced, and it is critical to predict the minority class correctly.\n",
    "\n",
    "For example, in cancer prediction, we cannot miss malignant cases. Neither should we diagnose benign ones as malignant. Doing so would put healthy people through serious treatment and decrease trust in the whole diagnostic process.\n",
    "\n",
    "[Micro, Macro, Weighted Averages](https://towardsdatascience.com/micro-macro-weighted-averages-of-f1-score-clearly-explained-b603420b292f)\n",
    "- Definition of Precision, Recall, f1 scores and how to calculate them.\n",
    "- Which average should I choose?\n",
    "- Explains why there is no accuracy for precision and recall\n",
    "- IMPORTANT TO READ"
   ]
  },
  {
   "cell_type": "code",
   "execution_count": 128,
   "id": "c3527142",
   "metadata": {},
   "outputs": [
    {
     "name": "stdout",
     "output_type": "stream",
     "text": [
      "              precision    recall  f1-score   support\n",
      "\n",
      "           0       0.96      0.97      0.97       103\n",
      "           1       0.97      0.96      0.97       111\n",
      "\n",
      "    accuracy                           0.97       214\n",
      "   macro avg       0.97      0.97      0.97       214\n",
      "weighted avg       0.97      0.97      0.97       214\n",
      "\n"
     ]
    }
   ],
   "source": [
    "# call the helper functions\n",
    "actual_classes, predicted_classes = cross_val_predict(clf, kfold, X, y)\n",
    "\n",
    "# display the classification report\n",
    "print(metrics.classification_report(y_true = actual_classes, y_pred = predicted_classes))"
   ]
  },
  {
   "cell_type": "markdown",
   "id": "ab036235",
   "metadata": {},
   "source": [
    "# Confusion Matrix"
   ]
  },
  {
   "cell_type": "code",
   "execution_count": 118,
   "id": "93680b03",
   "metadata": {},
   "outputs": [],
   "source": [
    "'''\n",
    "    plot_confusion_matrix helper function uses sklearn.metrics.confusion_matrix to\n",
    "    calculate the matrix followed by a seaborn `heatmap` to show it in a nice format\n",
    "    that helps to fully understand the performance of the algorithm through visualization.\n",
    "'''\n",
    "def plot_confusion_matrix(\n",
    "    actual_classes : np.array,\n",
    "    predicted_classes : np.array,\n",
    "    display_labels : list\n",
    "):\n",
    "    \n",
    "    cm = metrics.confusion_matrix(y_true = actual_classes, y_pred = predicted_classes)\n",
    "    cm_display = metrics.ConfusionMatrixDisplay(confusion_matrix = cm, display_labels = display_labels)\n",
    "    cm_display.plot()    "
   ]
  },
  {
   "cell_type": "code",
   "execution_count": 133,
   "id": "77c642e9",
   "metadata": {},
   "outputs": [
    {
     "name": "stdout",
     "output_type": "stream",
     "text": [
      "confusion matrix accuracy: 0.97\n",
      "confusion matrix precision: 0.97\n",
      "confusion matrix recall: 0.96\n",
      "confusion matrix f1 score: 0.97\n"
     ]
    },
    {
     "data": {
      "text/plain": [
       "'\\nWhen I calculate precision, recall, and f1 through CV cross_val_score(), \\nit gives me different results than when I calculate through the confusion matrix. \\nWhy does it give different precision, recall, and f1 scores?\\n\\nFor cross_val_score you take the mean of the prediction, \\nwhile for your manual cv you calculated the metric over the concatenated predictions/targets. \\nAccuracy is not sensitive to this difference, however precision, recall and f1 score are. \\nTry again by calculating the metrics over each fold and then averaging, you should have the same scores.\\n\\nsource: https://stackoverflow.com/questions/73049155/sklearn-model-selection-cross-val-score-has-different-results-from-a-manual-calc?noredirect=1#comment129040471_73049155\\n\\n'"
      ]
     },
     "execution_count": 133,
     "metadata": {},
     "output_type": "execute_result"
    },
    {
     "data": {
      "image/png": "[encoded data removed]",
      "text/plain": [
       "<Figure size 432x288 with 2 Axes>"
      ]
     },
     "metadata": {
      "needs_background": "light"
     },
     "output_type": "display_data"
    }
   ],
   "source": [
    "# plot the confusion matrix\n",
    "plot_confusion_matrix(actual_classes, predicted_classes, [0, 1])\n",
    "\n",
    "\n",
    "'''\n",
    "[   \n",
    "    [TN, FP]\n",
    "    [FN, TP]\n",
    "]\n",
    "'''\n",
    "TN = 100\n",
    "FP = 3\n",
    "FN = 4\n",
    "TP = 107\n",
    "\n",
    "print(\"confusion matrix accuracy:\", round((TP + TN) / (TP + FP + TN + FN), 2))\n",
    "print(\"confusion matrix precision:\", round(TP / (TP + FP), 2))\n",
    "print(\"confusion matrix recall:\", round(TP / (TP + FN), 2))\n",
    "print(\"confusion matrix f1 score:\", round(TP / (TP + ((FP + FN) / 2) ), 2))"
   ]
  }
 ],
 "metadata": {
  "kernelspec": {
   "display_name": "Python 3 (ipykernel)",
   "language": "python",
   "name": "python3"
  },
  "language_info": {
   "codemirror_mode": {
    "name": "ipython",
    "version": 3
   },
   "file_extension": ".py",
   "mimetype": "text/x-python",
   "name": "python",
   "nbconvert_exporter": "python",
   "pygments_lexer": "ipython3",
   "version": "3.9.7"
  }
 },
 "nbformat": 4,
 "nbformat_minor": 5
}
