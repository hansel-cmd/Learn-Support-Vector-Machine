{
 "cells": [
  {
   "cell_type": "code",
   "execution_count": 9,
   "id": "864b0a33",
   "metadata": {},
   "outputs": [
    {
     "name": "stdout",
     "output_type": "stream",
     "text": [
      "[1 1 1 1 0 1 1 1 1 1 0 1 0 0 0 1 0 0 1 0 1 1 1 1 1 1 0 0 1 1 1 0 0 1 1 1 1\n",
      " 1 0 1 0 1 0 0 1 1 1 1 1 1 1 0 0 1 0 0 1 1 0 1 1 1 1 1 1 1 1 1 0 1 1 1 1 0\n",
      " 1 0 0 0 1 0 1 0 1 1 0 1 0 1 0 0 0 0 1 0 0 1 0 0 1 1 1 0 1 0 1 1 1 0 0 1 0\n",
      " 1 0 1 1 0 1 1 1 0 1 1 1 1 0 1 0 0 0 1 1 0 1 0 0 1 1 1 1 1 1 0 1 0 1 1 0 1\n",
      " 0 1 0 0 1 1 1 0 1 1 1 0 1 1 1 1 1 0 1 1 0 1 1]\n",
      "accuracy_score:  0.9239766081871345\n",
      "precision_score:  0.9444444444444444\n",
      "recall_score 0.9357798165137615\n",
      "f1_score 0.9400921658986177\n",
      "wew (array([0.88888889, 0.94444444]), array([0.90322581, 0.93577982]), array([0.896     , 0.94009217]), array([ 62, 109], dtype=int64))\n",
      "              precision    recall  f1-score   support\n",
      "\n",
      "           0       0.89      0.90      0.90        62\n",
      "           1       0.94      0.94      0.94       109\n",
      "\n",
      "    accuracy                           0.92       171\n",
      "   macro avg       0.92      0.92      0.92       171\n",
      "weighted avg       0.92      0.92      0.92       171\n",
      "\n"
     ]
    },
    {
     "data": {
      "text/plain": [
       "<sklearn.metrics._plot.confusion_matrix.ConfusionMatrixDisplay at 0x19f3193fb20>"
      ]
     },
     "execution_count": 9,
     "metadata": {},
     "output_type": "execute_result"
    },
    {
     "data": {
      "image/png": "[encoded data removed]",
      "text/plain": [
       "<Figure size 432x288 with 2 Axes>"
      ]
     },
     "metadata": {
      "needs_background": "light"
     },
     "output_type": "display_data"
    }
   ],
   "source": [
    "import numpy as np\n",
    "from sklearn import datasets\n",
    "from sklearn import svm\n",
    "from sklearn import metrics\n",
    "from sklearn.model_selection import train_test_split\n",
    "import matplotlib.pyplot as plt\n",
    "\n",
    "# loading the data\n",
    "cancer_data = datasets.load_breast_cancer()\n",
    "# print(cancer_data.data)\n",
    "# print(cancer_data.target)\n",
    "\n",
    "# splitting the data into train and test data\n",
    "x_train, x_test, y_train, y_test = train_test_split(cancer_data.data, cancer_data.target, random_state=None, test_size = 0.3)\n",
    "# print(y_train)\n",
    "# print(y_test)\n",
    "\n",
    "# generate the model\n",
    "cls = svm.SVC(kernel=\"rbf\", gamma=0.00001, C=100)\n",
    "\n",
    "# train the model\n",
    "cls.fit(x_train, y_train)\n",
    "\n",
    "# predict the response\n",
    "pred = cls.predict(x_test)\n",
    "print(pred)\n",
    "\n",
    "\n",
    "accuracy_score = metrics.accuracy_score(y_true = y_test, y_pred = pred)\n",
    "precision_score = metrics.precision_score(y_true = y_test, y_pred = pred)\n",
    "recall_score = metrics.recall_score(y_true = y_test, y_pred = pred)\n",
    "f1_score = metrics.f1_score(y_true = y_test, y_pred = pred)\n",
    "print(\"accuracy_score: \", accuracy_score)\n",
    "print(\"precision_score: \", precision_score)\n",
    "print(\"recall_score\", recall_score)\n",
    "print(\"f1_score\", f1_score)\n",
    "\n",
    "\n",
    "wew = metrics.precision_recall_fscore_support(y_true = y_test, y_pred = pred)\n",
    "print(\"wew\", wew)\n",
    "\n",
    "print(metrics.classification_report(y_test, y_pred = pred))\n",
    "\n",
    "\n",
    "cls.score(x_test, y_test)\n",
    "\n",
    "# # confusion matrix\n",
    "cm = metrics.confusion_matrix(y_test, y_pred = pred)\n",
    "# print(cm)\n",
    "\n",
    "cm_display = metrics.ConfusionMatrixDisplay(confusion_matrix = cm, display_labels = cls.classes_)\n",
    "cm_display.plot()\n"
   ]
  },
  {
   "cell_type": "code",
   "execution_count": null,
   "id": "ddfadfe4",
   "metadata": {},
   "outputs": [],
   "source": [
    "# perform kfold cross validation\n",
    "# https://www.youtube.com/watch?v=gJo0uNL-5Qw"
   ]
  },
  {
   "cell_type": "code",
   "execution_count": null,
   "id": "67f2246e",
   "metadata": {},
   "outputs": [],
   "source": []
  },
  {
   "cell_type": "code",
   "execution_count": null,
   "id": "2c06e9a3",
   "metadata": {},
   "outputs": [],
   "source": []
  }
 ],
 "metadata": {
  "kernelspec": {
   "display_name": "Python 3 (ipykernel)",
   "language": "python",
   "name": "python3"
  },
  "language_info": {
   "codemirror_mode": {
    "name": "ipython",
    "version": 3
   },
   "file_extension": ".py",
   "mimetype": "text/x-python",
   "name": "python",
   "nbconvert_exporter": "python",
   "pygments_lexer": "ipython3",
   "version": "3.9.7"
  }
 },
 "nbformat": 4,
 "nbformat_minor": 5
}
