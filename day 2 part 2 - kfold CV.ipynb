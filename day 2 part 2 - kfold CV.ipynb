{
 "cells": [
  {
   "cell_type": "markdown",
   "id": "54b89839",
   "metadata": {},
   "source": [
    "# Necessary Imports"
   ]
  },
  {
   "cell_type": "code",
   "execution_count": 2,
   "id": "c303e996",
   "metadata": {},
   "outputs": [],
   "source": [
    "# helps for scientific computing: ndarray, etc.\n",
    "import numpy as np\n",
    "\n",
    "# helps create new data structure called data frames\n",
    "import pandas as pd\n",
    "\n",
    "# helps for plotting visualization\n",
    "import matplotlib.pyplot as plt\n",
    "\n",
    "# sklearn is for machine learning\n",
    "from sklearn import svm\n",
    "from sklearn.model_selection import KFold\n",
    "from sklearn.model_selection import train_test_split\n",
    "from sklearn.model_selection import cross_val_score\n",
    "from sklearn import metrics"
   ]
  },
  {
   "cell_type": "markdown",
   "id": "d797ff27",
   "metadata": {},
   "source": [
    "# Load data from CSV File"
   ]
  },
  {
   "cell_type": "code",
   "execution_count": 3,
   "id": "1386b688",
   "metadata": {},
   "outputs": [
    {
     "data": {
      "text/plain": [
       "ID             699\n",
       "Clump          699\n",
       "UnifSize       699\n",
       "UnifShape      699\n",
       "MargAdh        699\n",
       "SingEpiSize    699\n",
       "BareNuc        699\n",
       "BlandChrom     699\n",
       "NormNucl       699\n",
       "Mit            699\n",
       "Class          699\n",
       "dtype: int64"
      ]
     },
     "execution_count": 3,
     "metadata": {},
     "output_type": "execute_result"
    }
   ],
   "source": [
    "# returns data frames \n",
    "cell_df = pd.read_csv('cell_samples.csv')\n",
    "\n",
    "cell_df.tail()\n",
    "\n",
    "# (699, 11)\n",
    "cell_df.shape\n",
    "\n",
    "# tells how many records are present in an attribute/column\n",
    "cell_df.count()\n",
    "\n",
    "# tells how many values are present in an attribute/column\n",
    "# 60:40 slightly imbalance\n",
    "# 90:10 severe imbalance\n",
    "# cell_df['Class'].value_counts(normalize=True)"
   ]
  },
  {
   "cell_type": "markdown",
   "id": "2d1485ca",
   "metadata": {},
   "source": [
    "# Distribution of the classes/target column"
   ]
  },
  {
   "cell_type": "code",
   "execution_count": 5,
   "id": "35483f85",
   "metadata": {
    "collapsed": true
   },
   "outputs": [
    {
     "data": {
      "text/plain": [
       "<AxesSubplot:xlabel='Clump', ylabel='UnifSize'>"
      ]
     },
     "execution_count": 5,
     "metadata": {},
     "output_type": "execute_result"
    },
    {
     "data": {
      "image/png": "[encoded data removed]",
      "text/plain": [
       "<Figure size 432x288 with 1 Axes>"
      ]
     },
     "metadata": {
      "needs_background": "light"
     },
     "output_type": "display_data"
    }
   ],
   "source": [
    "# get the records/rows in an attribute that satisfies the condition\n",
    "# [0:200] means get 0 to 199.\n",
    "malignant_df = cell_df[ cell_df['Class'] == 2 ][0:200]\n",
    "benign_df = cell_df[ cell_df['Class'] == 4][0:200]\n",
    "\n",
    "# show help of the particular method\n",
    "# help(malignant_df.plot)\n",
    "\n",
    "# creates a scatter plot, x and y values should be a valid field name\n",
    "# in the dataframe\n",
    "# returns axes\n",
    "axes = malignant_df.plot(kind = 'scatter', x = 'Clump', y = 'UnifSize', label = 'malignant', color = 'blue')\n",
    "benign_df.plot(kind = 'scatter', x = 'Clump', y = 'UnifSize', label = 'benign', color = 'red', ax = axes)"
   ]
  },
  {
   "cell_type": "markdown",
   "id": "6020433a",
   "metadata": {},
   "source": [
    "# Identifying unwanted rows"
   ]
  },
  {
   "cell_type": "code",
   "execution_count": 4,
   "id": "5d789726",
   "metadata": {
    "collapsed": true
   },
   "outputs": [
    {
     "data": {
      "text/plain": [
       "ID             int64\n",
       "Clump          int64\n",
       "UnifSize       int64\n",
       "UnifShape      int64\n",
       "MargAdh        int64\n",
       "SingEpiSize    int64\n",
       "BareNuc        int32\n",
       "BlandChrom     int64\n",
       "NormNucl       int64\n",
       "Mit            int64\n",
       "Class          int64\n",
       "dtype: object"
      ]
     },
     "execution_count": 4,
     "metadata": {},
     "output_type": "execute_result"
    }
   ],
   "source": [
    "# verify if data types of the column is a numeric value\n",
    "# we need numeric value so we can perform mathematical operations\n",
    "cell_df.dtypes\n",
    "\n",
    "# convert/transform data types of BareNuc column VALUES using .to_numeric()\n",
    "# .to_numeric() returns data frames,\n",
    "# pick only rows that cannot be converted into numeric by calling .notnull(),\n",
    "# this, in turn, becomes a condition, thus, affects rows in an attribute BareNuc\n",
    "# that satisfies the condition returned by .notnull()\n",
    "cell_df = cell_df[ pd.to_numeric(cell_df['BareNuc'], errors = 'coerce').notnull() ]\n",
    "\n",
    "# convert data type of BareNuc column ITSELF\n",
    "# returns a casted\n",
    "cell_df['BareNuc'] = cell_df['BareNuc'].astype('int')\n",
    "cell_df.dtypes"
   ]
  },
  {
   "cell_type": "markdown",
   "id": "e43b4e81",
   "metadata": {},
   "source": [
    "# Remove unwanted columns/attributes\n",
    "\n",
    "We now try to separate columns/attributes to independent and dependent\n",
    "columns."
   ]
  },
  {
   "cell_type": "code",
   "execution_count": 5,
   "id": "b8935afe",
   "metadata": {},
   "outputs": [],
   "source": [
    "# shows the columns of the data frames\n",
    "'''\n",
    "['ID', 'Clump', 'UnifSize', 'UnifShape', 'MargAdh', 'SingEpiSize',\n",
    "       'BareNuc', 'BlandChrom', 'NormNucl', 'Mit', 'Class']\n",
    "'''\n",
    "cell_df.columns\n",
    "\n",
    "# Drop ID column and we dont need Class for the independent column\n",
    "# Selects only columns that are in the array\n",
    "feature_df = cell_df[ ['Clump', 'UnifSize', 'UnifShape', 'MargAdh', 'SingEpiSize',\n",
    "       'BareNuc', 'BlandChrom', 'NormNucl', 'Mit'] ]\n",
    "feature_df\n",
    "\n",
    "# convert data frames to ndarray to be used in the train/test split\n",
    "# independent variable, capital X means 2D array\n",
    "X = np.asarray(feature_df)\n",
    "\n",
    "# dependent variable, small y means 1D array: of the attribute column\n",
    "y = np.asarray(cell_df['Class'])"
   ]
  },
  {
   "cell_type": "markdown",
   "id": "fe91e173",
   "metadata": {},
   "source": [
    "# Create the Model (SVM with sklearn)"
   ]
  },
  {
   "cell_type": "code",
   "execution_count": 6,
   "id": "4ce76908",
   "metadata": {},
   "outputs": [],
   "source": [
    "# hyperparameter tuning: change parameters for this model\n",
    "clf = svm.SVC()"
   ]
  },
  {
   "cell_type": "markdown",
   "id": "eb20f969",
   "metadata": {},
   "source": [
    "# Divide the data as Train/Test dataset"
   ]
  },
  {
   "cell_type": "code",
   "execution_count": 8,
   "id": "9e7a59ff",
   "metadata": {},
   "outputs": [],
   "source": [
    "# this cell is now [optional]\n",
    "\n",
    "def get_score(model, X_train, X_test, y_train, y_test):\n",
    "    model.fit(X_train, y_train)\n",
    "    predictions = model.predict(X_test)\n",
    "    accuracy_score = metrics.accuracy_score(y_true = y_test, y_pred = predictions)\n",
    "    \n",
    "    return accuracy_score\n",
    "\n",
    "def get_score_1(model, X_train, X_test, y_train, y_test, metric = 'f1_score'):\n",
    "    model.fit(X_train, y_train)\n",
    "    predictions = model.predict(X_test)\n",
    "    if metric == 'accuracy':\n",
    "        pass\n",
    "    if metric == 'precision':\n",
    "        pass\n",
    "    if metric == 'recall':\n",
    "        pass\n",
    "    if metric == 'f1_score':\n",
    "        # class_2 is class_0 but the dataset has [2, 4] instead of [0, 1]\n",
    "        # class_4 is class_1 but the dataset has [2, 4] instead of [0, 1]\n",
    "        # this logic is same with:\n",
    "        '''\n",
    "        \n",
    "        '''\n",
    "        class_2 = metrics.f1_score(y_true = y_test, y_pred = predictions, pos_label = 2)\n",
    "        class_4 = metrics.f1_score(y_true = y_test, y_pred = predictions, pos_label = 4)\n",
    "        return (class_2 + class_4) / 2"
   ]
  },
  {
   "cell_type": "markdown",
   "id": "b535a587",
   "metadata": {},
   "source": [
    "# train_test_split()"
   ]
  },
  {
   "cell_type": "code",
   "execution_count": 84,
   "id": "6bb6be28",
   "metadata": {},
   "outputs": [
    {
     "name": "stdout",
     "output_type": "stream",
     "text": [
      "accuracy score: 0.95\n",
      "\n",
      "class 2 support: 79\n",
      "class 4 support: 58\n",
      "total support: 137\n",
      "\n",
      "precision score for class 2: 0.94\n",
      "precision score for class 4: 0.96\n",
      "precision score macro average: 0.95\n",
      "precision score weighted average: 0.95\n",
      "\n",
      "recall score for class 2: 0.97\n",
      "recall score for class 4: 0.91\n",
      "recall score macro average: 0.94\n",
      "recall score weighted average: 0.95\n",
      "\n",
      "f1 score for class 2: 0.96\n",
      "f1 score for class 4: 0.94\n",
      "micro-f1 = micro-precision = micro-recall = accuracy\n",
      "f1 score macro average: 0.95\n",
      "f1 score weighted average: 0.95\n",
      "\n",
      "\n",
      "              precision    recall  f1-score   support\n",
      "\n",
      "           2       0.94      0.97      0.96        79\n",
      "           4       0.96      0.91      0.94        58\n",
      "\n",
      "    accuracy                           0.95       137\n",
      "   macro avg       0.95      0.94      0.95       137\n",
      "weighted avg       0.95      0.95      0.95       137\n",
      "\n",
      "confusion matrix accuracy: 0.95\n",
      "confusion matrix precision: 0.96\n",
      "confusion matrix recall: 0.91\n",
      "confusion matrix f1 score: 0.94\n"
     ]
    },
    {
     "data": {
      "image/png": "[encoded data removed]",
      "text/plain": [
       "<Figure size 432x288 with 2 Axes>"
      ]
     },
     "metadata": {
      "needs_background": "light"
     },
     "output_type": "display_data"
    }
   ],
   "source": [
    "X_train, X_test, y_train, y_test = train_test_split(X, y, random_state = 42, test_size = 0.2)\n",
    "\n",
    "clf.fit(X_train, y_train)\n",
    "pred = clf.predict(X_test)\n",
    "\n",
    "print(\"accuracy score:\", round(metrics.accuracy_score(y_true = y_test, y_pred = pred), 2))\n",
    "print()\n",
    "# precision_recall_fscore_support\n",
    "prfs = metrics.precision_recall_fscore_support(y_true = y_test, y_pred = pred)\n",
    "total_support = prfs[3][0] + prfs[3][1]\n",
    "print(\"class 2 support:\", prfs[3][0])\n",
    "print(\"class 4 support:\", prfs[3][1])\n",
    "print(\"total support:\", total_support)\n",
    "print()\n",
    "precision_score_class_2 = metrics.precision_score(y_true = y_test, y_pred = pred, pos_label = 2)\n",
    "precision_score_class_4 = metrics.precision_score(y_true = y_test, y_pred = pred, pos_label = 4)\n",
    "print(\"precision score for class 2:\", round(precision_score_class_2, 2))\n",
    "print(\"precision score for class 4:\", round(precision_score_class_4, 2))\n",
    "print(\"precision score macro average:\", round((precision_score_class_4 + precision_score_class_2) / 2, 2))\n",
    "print(\"precision score weighted average:\", round((precision_score_class_2 * prfs[3][0] / total_support) + \\\n",
    "                                                    (precision_score_class_4 * prfs[3][1] / total_support), 2))\n",
    "print()\n",
    "recall_score_class_2 = metrics.recall_score(y_true = y_test, y_pred = pred, pos_label = 2)\n",
    "recall_score_class_4 = metrics.recall_score(y_true = y_test, y_pred = pred, pos_label = 4)\n",
    "print(\"recall score for class 2:\", round(recall_score_class_2, 2))\n",
    "print(\"recall score for class 4:\", round(recall_score_class_4, 2))\n",
    "print(\"recall score macro average:\", round((recall_score_class_4 + recall_score_class_2) / 2, 2))\n",
    "print(\"recall score weighted average:\", round((recall_score_class_2 * prfs[3][0] / total_support) + \\\n",
    "                                                    (recall_score_class_4 * prfs[3][1] / total_support), 2))\n",
    "print()\n",
    "f1_score_class_2 = metrics.f1_score(y_true = y_test, y_pred = pred, pos_label = 2)\n",
    "f1_score_class_4 = metrics.f1_score(y_true = y_test, y_pred = pred, pos_label = 4)\n",
    "print(\"f1 score for class 2:\", round(f1_score_class_2, 2))\n",
    "print(\"f1 score for class 4:\", round(f1_score_class_4, 2))\n",
    "print(\"micro-f1 = micro-precision = micro-recall = accuracy\")\n",
    "print(\"f1 score macro average:\", round((f1_score_class_4 + f1_score_class_2) / 2, 2))\n",
    "print(\"f1 score weighted average:\", round((f1_score_class_2 * prfs[3][0] / total_support) + \\\n",
    "                                      (f1_score_class_4 * prfs[3][1] / total_support), 2))\n",
    "print()\n",
    "\n",
    "print()\n",
    "print(metrics.classification_report(y_test, y_pred = pred))\n",
    "\n",
    "\n",
    "# CONFUSION MATRIX\n",
    "# confusion matrix\n",
    "cm = metrics.confusion_matrix(y_test, y_pred = pred)\n",
    "'''\n",
    "[   \n",
    "    [TN, FP]\n",
    "    [FN, TP]\n",
    "]\n",
    "'''\n",
    "cm_display = metrics.ConfusionMatrixDisplay(confusion_matrix = cm, display_labels = [2, 4])\n",
    "cm_display.plot()\n",
    "\n",
    "TN = 77\n",
    "FP = 2\n",
    "FN = 5\n",
    "TP = 53\n",
    "\n",
    "print(\"confusion matrix accuracy:\", round((TP + TN) / (TP + FP + TN + FN), 2))\n",
    "print(\"confusion matrix precision:\", round(TP / (TP + FP), 2))\n",
    "print(\"confusion matrix recall:\", round(TP / (TP + FN), 2))\n",
    "print(\"confusion matrix f1 score:\", round(TP / (TP + ((FP + FN) / 2) ), 2))"
   ]
  },
  {
   "cell_type": "markdown",
   "id": "8099a698",
   "metadata": {},
   "source": [
    "# K-Fold Cross Validation using cross_val_score"
   ]
  },
  {
   "cell_type": "code",
   "execution_count": 156,
   "id": "ce414d1d",
   "metadata": {},
   "outputs": [
    {
     "name": "stdout",
     "output_type": "stream",
     "text": [
      "accuracy score: 0.97\n",
      "precision score: 0.96\n",
      "recall score: 0.97\n",
      "f1 score: 0.96\n"
     ]
    }
   ],
   "source": [
    "clf = svm.SVC()\n",
    "kfold = KFold(n_splits = 10)\n",
    "\n",
    "accuracy = metrics.make_scorer(metrics.accuracy_score)\n",
    "precision = metrics.make_scorer(metrics.precision_score, average = 'macro')\n",
    "recall = metrics.make_scorer(metrics.recall_score, average = 'macro')\n",
    "f1 = metrics.make_scorer(metrics.f1_score, average = 'macro')\n",
    "\n",
    "accuracy_score = cross_val_score(clf, X, y, scoring = accuracy, cv = kfold)\n",
    "precision_score = cross_val_score(clf, X, y, scoring = precision, cv = kfold)\n",
    "recall_score = cross_val_score(clf, X, y, scoring = recall, cv = kfold)\n",
    "f1_score = cross_val_score(clf, X, y, scoring = f1, cv = kfold)\n",
    "\n",
    "print(\"accuracy score:\", round(accuracy_score.mean(), 2))\n",
    "print(\"precision score:\", round(precision_score.mean(), 2))\n",
    "print(\"recall score:\", round(recall_score.mean(), 2))\n",
    "print(\"f1 score:\", round(f1_score.mean(), 2))"
   ]
  },
  {
   "cell_type": "markdown",
   "id": "546acab7",
   "metadata": {},
   "source": [
    "# Confusion Matrix"
   ]
  },
  {
   "cell_type": "markdown",
   "id": "ea195339",
   "metadata": {},
   "source": [
    "## confusion matrix for Kfold Cross Validation\n",
    "[Plotting a Confusion Matrix from a K-Fold Cross Validation](https://towardsdatascience.com/how-to-plot-a-confusion-matrix-from-a-k-fold-cross-validation-b607317e9874)"
   ]
  },
  {
   "cell_type": "code",
   "execution_count": 37,
   "id": "e71085cf",
   "metadata": {},
   "outputs": [],
   "source": [
    "#importing libraries\n",
    "\n",
    "import copy as cp\n",
    "import seaborn as sns\n",
    "from typing import Tuple"
   ]
  },
  {
   "cell_type": "code",
   "execution_count": 118,
   "id": "1675d8ed",
   "metadata": {},
   "outputs": [],
   "source": [
    "# calculate the predicted and actual classes\n",
    "# by creating a helper function\n",
    "\n",
    "'''\n",
    "cross_val_predict helper function does the ff:\n",
    "    1. Takes a local (deep) copy of the machine learning algorithm (model) to \n",
    "        avoid changing the one passed in\n",
    "    2. Iterates around the k cross-validation data folds (given that n_splits = k)\n",
    "    3. For each of the k splits, do the ff:\n",
    "        a. extracts the rows from the data for the training features, training target,\n",
    "            test features, and test target\n",
    "        b. appends the actual target classifications to `actual_classes`\n",
    "        c. Fits the machine learning model using the training data extracted from the\n",
    "            current fold\n",
    "        d. uses the fitted model to predict the target classifications for the test data\n",
    "            in the current fold\n",
    "        e. appends the predicted classes for the current fold of test data to `predicted_classes`\n",
    "    4. The helper function returns the full set of actual and predicted classes (classifications)\n",
    "        that can be used to plot a confusion matrix\n",
    "'''\n",
    "\n",
    "# accepts a model, a KFold instance, two numpy arrays\n",
    "# returns a Tuple containing 3 numpy arrays\n",
    "def cross_val_predict(model, kfold : KFold, X : np.array, y : np.array) -> Tuple[np.array, np.array, np.array]:\n",
    "    \n",
    "    model_ = cp.deepcopy(model)\n",
    "    \n",
    "    # gets the number of classes in the column/attribute\n",
    "    # should be two from [2, 4].\n",
    "    no_of_classes = len(np.unique(y))\n",
    "    \n",
    "    # initializing empty numpy arrays to be returned\n",
    "    actual_classes = np.empty([0], dtype = int)\n",
    "    predicted_classes = np.empty([0], dtype = int)\n",
    "    predicted_proba = np.empty([0, no_of_classes])\n",
    "    \n",
    "    '''\n",
    "    for train_index, test_index in \\ \n",
    "        kfold.split([0,1,2,3,4,5,6,7,8,9]) should\n",
    "    look like the below:\n",
    "    [1 2 3 4 5 6 7 8 9] [0]\n",
    "    [0 2 3 4 5 6 7 8 9] [1]\n",
    "    [0 1 3 4 5 6 7 8 9] [2]\n",
    "    [0 1 2 4 5 6 7 8 9] [3]\n",
    "    [0 1 2 3 5 6 7 8 9] [4]\n",
    "    [0 1 2 3 4 6 7 8 9] [5]\n",
    "    [0 1 2 3 4 5 7 8 9] [6]\n",
    "    [0 1 2 3 4 5 6 8 9] [7]\n",
    "    [0 1 2 3 4 5 6 7 9] [8]\n",
    "    [0 1 2 3 4 5 6 7 8] [9]\n",
    "    '''\n",
    "    for train_index, test_index in kfold.split(X):\n",
    "        X_train, X_test = X[train_index], X[test_index]\n",
    "        y_train, y_test = y[train_index], y[test_index]\n",
    "        \n",
    "        # append the actual classes : [...] for this iteration\n",
    "        actual_classes = np.append(actual_classes, y_test)\n",
    "        \n",
    "        # fit the model\n",
    "        model_.fit(X_train, y_train)\n",
    "        \n",
    "        # predict\n",
    "        predicted_classes = np.append(predicted_classes, model_.predict(X_test))\n",
    "        \n",
    "        # This part is really optional\n",
    "        try:\n",
    "            predicted_proba = np.append(predicted_proba, model_.predict_proba(X_test), axis=0)            \n",
    "        except:\n",
    "            predicted_proba = np.append(predicted_proba, np.zeros((len(X_test), no_of_classes), dtype=float), axis=0)\n",
    "    \n",
    "    return actual_classes, predicted_classes, predicted_proba\n",
    "        \n",
    "# cross_val_predict(svm.SVC(probability=True), KFold(n_splits = 5), X, y)\n",
    "    "
   ]
  },
  {
   "cell_type": "code",
   "execution_count": 119,
   "id": "ba1b5bb6",
   "metadata": {},
   "outputs": [],
   "source": [
    "# visualize the confusion matrix by creating \n",
    "# another helper function\n",
    "\n",
    "'''\n",
    "    plot_confusion_matrix helper function uses sklearn.metrics.confusion_matrix to\n",
    "    calculate the matrix followed by a seaborn `heatmap` to show it in a nice format\n",
    "    that helps to fully understand the performance of the algorithm through visualization.\n",
    "'''\n",
    "def plot_confusion_matrix(actual_classes : np.array, predicted_classes : np.array):\n",
    "    cm = metrics.confusion_matrix(y_true = actual_classes, y_pred = predicted_classes)\n",
    "    cm_display = metrics.ConfusionMatrixDisplay(confusion_matrix = cm, display_labels = [2,4])\n",
    "    cm_display.plot()"
   ]
  },
  {
   "cell_type": "code",
   "execution_count": 157,
   "id": "29b2f270",
   "metadata": {},
   "outputs": [
    {
     "name": "stdout",
     "output_type": "stream",
     "text": [
      "              precision    recall  f1-score   support\n",
      "\n",
      "           2       0.98      0.97      0.98       444\n",
      "           4       0.95      0.96      0.95       239\n",
      "\n",
      "    accuracy                           0.97       683\n",
      "   macro avg       0.96      0.97      0.96       683\n",
      "weighted avg       0.97      0.97      0.97       683\n",
      "\n",
      "confusion matrix accuracy: 0.97\n",
      "confusion matrix precision: 0.95\n",
      "confusion matrix recall: 0.96\n",
      "confusion matrix f1 score: 0.95\n"
     ]
    },
    {
     "data": {
      "image/png": "[encoded data removed]",
      "text/plain": [
       "<Figure size 432x288 with 2 Axes>"
      ]
     },
     "metadata": {
      "needs_background": "light"
     },
     "output_type": "display_data"
    }
   ],
   "source": [
    "# call the helper functions\n",
    "\n",
    "# classifier = svm.SVC(kernel=\"linear\", probability=True)\n",
    "\n",
    "actual_classes, predicted_classes, _ = cross_val_predict(clf, kfold, X, y)\n",
    "print(metrics.classification_report(y_true = actual_classes, y_pred = predicted_classes))\n",
    "plot_confusion_matrix(actual_classes, predicted_classes)\n",
    "\n",
    "\n",
    "'''\n",
    "[   \n",
    "    [TN, FP]\n",
    "    [FN, TP]\n",
    "]\n",
    "'''\n",
    "TN_CV = 431\n",
    "FP_CV = 13\n",
    "FN_CV = 9\n",
    "TP_CV = 230\n",
    "\n",
    "\n",
    "print(\"confusion matrix accuracy:\", round((TP_CV + TN_CV) / (TP_CV + FP_CV + TN_CV + FN_CV), 2))\n",
    "print(\"confusion matrix precision:\", round(TP_CV / (TP_CV + FP_CV), 2))\n",
    "print(\"confusion matrix recall:\", round(TP_CV / (TP_CV + FN_CV), 2))\n",
    "print(\"confusion matrix f1 score:\", round(TP_CV / (TP_CV + ((FP_CV + FN_CV) / 2) ), 2))\n",
    "   \n",
    "\n",
    "    \n",
    "# for confusion matrix's accuracy, precision, recall, and f1 score,\n",
    "# it is based on the class_4 or class_1.\n",
    "\n",
    "# compare this with the cross_val_score from above cell,\n",
    "# you'd see a rather different result because\n",
    "# for the cross_val_score, we are using the average = 'macro'\n",
    "# for the make_scorer(). The output we see there is the\n",
    "# macro avg in the classification report.\n",
    "# if we use average = 'binary', pos_label = 4 or 2,\n",
    "# then that's the time we see different result because\n",
    "# we are dealing with floating point values which is \n",
    "# not distinct. Because of this concept, we see a tiny\n",
    "# difference between the cross_val_score with avg = binary, pos_label = 4 or 2\n",
    "# and the number you see on the classification report's class_4 or class_2."
   ]
  }
 ],
 "metadata": {
  "kernelspec": {
   "display_name": "Python 3 (ipykernel)",
   "language": "python",
   "name": "python3"
  },
  "language_info": {
   "codemirror_mode": {
    "name": "ipython",
    "version": 3
   },
   "file_extension": ".py",
   "mimetype": "text/x-python",
   "name": "python",
   "nbconvert_exporter": "python",
   "pygments_lexer": "ipython3",
   "version": "3.9.7"
  }
 },
 "nbformat": 4,
 "nbformat_minor": 5
}
