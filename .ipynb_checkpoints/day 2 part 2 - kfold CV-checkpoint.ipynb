{
 "cells": [
  {
   "cell_type": "markdown",
   "id": "268af7b4",
   "metadata": {},
   "source": [
    "# Necessary Imports"
   ]
  },
  {
   "cell_type": "code",
   "execution_count": 3,
   "id": "9b711b58",
   "metadata": {},
   "outputs": [],
   "source": [
    "# helps for scientific computing: ndarray, etc.\n",
    "import numpy as np\n",
    "\n",
    "# helps create new data structure called data frames\n",
    "import pandas as pd\n",
    "\n",
    "# helps for plotting visualization\n",
    "import matplotlib.pyplot as plt\n",
    "\n",
    "# sklearn is for machine learning\n",
    "from sklearn import svm\n",
    "from sklearn.model_selection import KFold\n",
    "from sklearn.model_selection import train_test_split\n",
    "from sklearn.model_selection import cross_val_score\n",
    "from sklearn import metrics"
   ]
  },
  {
   "cell_type": "markdown",
   "id": "94bfc2cc",
   "metadata": {},
   "source": [
    "# Load data from CSV File"
   ]
  },
  {
   "cell_type": "code",
   "execution_count": 4,
   "id": "d3fc6e82",
   "metadata": {},
   "outputs": [
    {
     "data": {
      "text/plain": [
       "2    0.655222\n",
       "4    0.344778\n",
       "Name: Class, dtype: float64"
      ]
     },
     "execution_count": 4,
     "metadata": {},
     "output_type": "execute_result"
    }
   ],
   "source": [
    "# returns data frames \n",
    "cell_df = pd.read_csv('cell_samples.csv')\n",
    "\n",
    "cell_df.tail()\n",
    "\n",
    "# (699, 11)\n",
    "cell_df.shape\n",
    "\n",
    "# tells how many records are present in an attribute/column\n",
    "cell_df.count()\n",
    "\n",
    "# tells how many values are present in an attribute/column\n",
    "# 60:40 slightly imbalance\n",
    "# 90:10 severe imbalance\n",
    "cell_df['Class'].value_counts(normalize=True)"
   ]
  },
  {
   "cell_type": "markdown",
   "id": "77d9be13",
   "metadata": {},
   "source": [
    "# Distribution of the classes/target column"
   ]
  },
  {
   "cell_type": "code",
   "execution_count": 5,
   "id": "78295a1f",
   "metadata": {
    "collapsed": true
   },
   "outputs": [
    {
     "data": {
      "text/plain": [
       "<AxesSubplot:xlabel='Clump', ylabel='UnifSize'>"
      ]
     },
     "execution_count": 5,
     "metadata": {},
     "output_type": "execute_result"
    },
    {
     "data": {
      "image/png": "[encoded data removed]",
      "text/plain": [
       "<Figure size 432x288 with 1 Axes>"
      ]
     },
     "metadata": {
      "needs_background": "light"
     },
     "output_type": "display_data"
    }
   ],
   "source": [
    "# get the records/rows in an attribute that satisfies the condition\n",
    "# [0:200] means get 0 to 199.\n",
    "malignant_df = cell_df[ cell_df['Class'] == 2 ][0:200]\n",
    "benign_df = cell_df[ cell_df['Class'] == 4][0:200]\n",
    "\n",
    "# show help of the particular method\n",
    "# help(malignant_df.plot)\n",
    "\n",
    "# creates a scatter plot, x and y values should be a valid field name\n",
    "# in the dataframe\n",
    "# returns axes\n",
    "axes = malignant_df.plot(kind = 'scatter', x = 'Clump', y = 'UnifSize', label = 'malignant', color = 'blue')\n",
    "benign_df.plot(kind = 'scatter', x = 'Clump', y = 'UnifSize', label = 'benign', color = 'red', ax = axes)"
   ]
  },
  {
   "cell_type": "markdown",
   "id": "4bb73297",
   "metadata": {},
   "source": [
    "# Identifying unwanted rows"
   ]
  },
  {
   "cell_type": "code",
   "execution_count": 6,
   "id": "905dfceb",
   "metadata": {
    "collapsed": true
   },
   "outputs": [
    {
     "data": {
      "text/plain": [
       "ID             int64\n",
       "Clump          int64\n",
       "UnifSize       int64\n",
       "UnifShape      int64\n",
       "MargAdh        int64\n",
       "SingEpiSize    int64\n",
       "BareNuc        int32\n",
       "BlandChrom     int64\n",
       "NormNucl       int64\n",
       "Mit            int64\n",
       "Class          int64\n",
       "dtype: object"
      ]
     },
     "execution_count": 6,
     "metadata": {},
     "output_type": "execute_result"
    }
   ],
   "source": [
    "# verify if data types of the column is a numeric value\n",
    "# we need numeric value so we can perform mathematical operations\n",
    "cell_df.dtypes\n",
    "\n",
    "# convert/transform data types of BareNuc column VALUES using .to_numeric()\n",
    "# .to_numeric() returns data frames,\n",
    "# pick only rows that cannot be converted into numeric by calling .notnull(),\n",
    "# this, in turn, becomes a condition, thus, affects rows in an attribute BareNuc\n",
    "# that satisfies the condition returned by .notnull()\n",
    "cell_df = cell_df[ pd.to_numeric(cell_df['BareNuc'], errors = 'coerce').notnull() ]\n",
    "\n",
    "# convert how data type of BareNuc column ITSELF\n",
    "# returns a casted\n",
    "cell_df['BareNuc'] = cell_df['BareNuc'].astype('int')\n",
    "cell_df.dtypes"
   ]
  },
  {
   "cell_type": "markdown",
   "id": "73e862f7",
   "metadata": {},
   "source": [
    "# Remove unwanted columns/attributes\n",
    "\n",
    "We now try to separate columns/attributes to independent and dependent\n",
    "columns."
   ]
  },
  {
   "cell_type": "code",
   "execution_count": 7,
   "id": "e9a9f441",
   "metadata": {},
   "outputs": [],
   "source": [
    "# shows the columns of the data frames\n",
    "'''\n",
    "['ID', 'Clump', 'UnifSize', 'UnifShape', 'MargAdh', 'SingEpiSize',\n",
    "       'BareNuc', 'BlandChrom', 'NormNucl', 'Mit', 'Class']\n",
    "'''\n",
    "cell_df.columns\n",
    "\n",
    "# Drop ID column and we dont need Class for the independent column\n",
    "# Selects only columns that are in the array\n",
    "feature_df = cell_df[ ['Clump', 'UnifSize', 'UnifShape', 'MargAdh', 'SingEpiSize',\n",
    "       'BareNuc', 'BlandChrom', 'NormNucl', 'Mit'] ]\n",
    "feature_df\n",
    "\n",
    "# convert data frames to ndarray to be used in the train/test split\n",
    "# independent variable, capital X means 2D array\n",
    "X = np.asarray(feature_df)\n",
    "\n",
    "# dependent variable, small y means 1D array: of the attribute column\n",
    "y = np.asarray(cell_df['Class'])"
   ]
  },
  {
   "cell_type": "markdown",
   "id": "a74f41e5",
   "metadata": {},
   "source": [
    "# Create the Model (SVM with sklearn)"
   ]
  },
  {
   "cell_type": "code",
   "execution_count": 38,
   "id": "3528909f",
   "metadata": {},
   "outputs": [],
   "source": [
    "# hyperparameter tuning: change parameters for this model\n",
    "clf = svm.SVC()"
   ]
  },
  {
   "cell_type": "markdown",
   "id": "dcbd6f7f",
   "metadata": {},
   "source": [
    "# Divide the data as Train/Test dataset"
   ]
  },
  {
   "cell_type": "code",
   "execution_count": 8,
   "id": "fd0dddf6",
   "metadata": {},
   "outputs": [],
   "source": [
    "# this cell is now [optional]\n",
    "\n",
    "def get_score(model, X_train, X_test, y_train, y_test):\n",
    "    model.fit(X_train, y_train)\n",
    "    predictions = model.predict(X_test)\n",
    "    accuracy_score = metrics.accuracy_score(y_true = y_test, y_pred = predictions)\n",
    "    \n",
    "    return accuracy_score\n",
    "\n",
    "def get_score_1(model, X_train, X_test, y_train, y_test, metric = 'f1_score'):\n",
    "    model.fit(X_train, y_train)\n",
    "    predictions = model.predict(X_test)\n",
    "    if metric == 'accuracy':\n",
    "        pass\n",
    "    if metric == 'precision':\n",
    "        pass\n",
    "    if metric == 'recall':\n",
    "        pass\n",
    "    if metric == 'f1_score':\n",
    "        # class_2 is class_0 but the dataset has [2, 4] instead of [0, 1]\n",
    "        # class_4 is class_1 but the dataset has [2, 4] instead of [0, 1]\n",
    "        # this logic is same with:\n",
    "        '''\n",
    "        \n",
    "        '''\n",
    "        class_2 = metrics.f1_score(y_true = y_test, y_pred = predictions, pos_label = 2)\n",
    "        class_4 = metrics.f1_score(y_true = y_test, y_pred = predictions, pos_label = 4)\n",
    "        return (class_2 + class_4) / 2"
   ]
  },
  {
   "cell_type": "markdown",
   "id": "e6f2adf0",
   "metadata": {},
   "source": [
    "# train_test_split()"
   ]
  },
  {
   "cell_type": "code",
   "execution_count": 107,
   "id": "27cd8c34",
   "metadata": {},
   "outputs": [
    {
     "name": "stdout",
     "output_type": "stream",
     "text": [
      "accuracy score: 0.95\n",
      "\n",
      "class 2 support: 79\n",
      "class 4 support: 58\n",
      "total support: 137\n",
      "\n",
      "precision score for class 2: 0.94\n",
      "precision score for class 4: 0.96\n",
      "precision score macro average: 0.95\n",
      "precision score weighted average: 0.95\n",
      "\n",
      "recall score for class 2: 0.97\n",
      "recall score for class 4: 0.91\n",
      "recall score macro average: 0.94\n",
      "recall score weighted average: 0.95\n",
      "\n",
      "f1 score for class 2: 0.96\n",
      "f1 score for class 4: 0.94\n",
      "micro-f1 = micro-precision = micro-recall = accuracy\n",
      "f1 score macro average: 0.95\n",
      "f1 score weighted average: 0.95\n",
      "\n",
      "\n",
      "              precision    recall  f1-score   support\n",
      "\n",
      "           2       0.94      0.97      0.96        79\n",
      "           4       0.96      0.91      0.94        58\n",
      "\n",
      "    accuracy                           0.95       137\n",
      "   macro avg       0.95      0.94      0.95       137\n",
      "weighted avg       0.95      0.95      0.95       137\n",
      "\n",
      "confusion matrix accuracy: 0.95\n",
      "confusion matrix precision: 0.96\n",
      "confusion matrix recall: 0.91\n",
      "confusion matrix f1 score: 0.94\n"
     ]
    },
    {
     "data": {
      "image/png": "[encoded data removed]",
      "text/plain": [
       "<Figure size 432x288 with 2 Axes>"
      ]
     },
     "metadata": {
      "needs_background": "light"
     },
     "output_type": "display_data"
    }
   ],
   "source": [
    "X_train, X_test, y_train, y_test = train_test_split(X, y, random_state = 42, test_size = 0.2)\n",
    "\n",
    "clf.fit(X_train, y_train)\n",
    "pred = clf.predict(X_test)\n",
    "\n",
    "print(\"accuracy score:\", round(metrics.accuracy_score(y_true = y_test, y_pred = pred), 2))\n",
    "print()\n",
    "# precision_recall_fscore_support\n",
    "prfs = metrics.precision_recall_fscore_support(y_true = y_test, y_pred = pred)\n",
    "total_support = prfs[3][0] + prfs[3][1]\n",
    "print(\"class 2 support:\", prfs[3][0])\n",
    "print(\"class 4 support:\", prfs[3][1])\n",
    "print(\"total support:\", total_support)\n",
    "print()\n",
    "precision_score_class_2 = metrics.precision_score(y_true = y_test, y_pred = pred, pos_label = 2)\n",
    "precision_score_class_4 = metrics.precision_score(y_true = y_test, y_pred = pred, pos_label = 4)\n",
    "print(\"precision score for class 2:\", round(precision_score_class_2, 2))\n",
    "print(\"precision score for class 4:\", round(precision_score_class_4, 2))\n",
    "print(\"precision score macro average:\", round((precision_score_class_4 + precision_score_class_2) / 2, 2))\n",
    "print(\"precision score weighted average:\", round((precision_score_class_2 * prfs[3][0] / total_support) + \\\n",
    "                                                    (precision_score_class_4 * prfs[3][1] / total_support), 2))\n",
    "print()\n",
    "recall_score_class_2 = metrics.recall_score(y_true = y_test, y_pred = pred, pos_label = 2)\n",
    "recall_score_class_4 = metrics.recall_score(y_true = y_test, y_pred = pred, pos_label = 4)\n",
    "print(\"recall score for class 2:\", round(recall_score_class_2, 2))\n",
    "print(\"recall score for class 4:\", round(recall_score_class_4, 2))\n",
    "print(\"recall score macro average:\", round((recall_score_class_4 + recall_score_class_2) / 2, 2))\n",
    "print(\"recall score weighted average:\", round((recall_score_class_2 * prfs[3][0] / total_support) + \\\n",
    "                                                    (recall_score_class_4 * prfs[3][1] / total_support), 2))\n",
    "print()\n",
    "f1_score_class_2 = metrics.f1_score(y_true = y_test, y_pred = pred, pos_label = 2)\n",
    "f1_score_class_4 = metrics.f1_score(y_true = y_test, y_pred = pred, pos_label = 4)\n",
    "print(\"f1 score for class 2:\", round(f1_score_class_2, 2))\n",
    "print(\"f1 score for class 4:\", round(f1_score_class_4, 2))\n",
    "print(\"micro-f1 = micro-precision = micro-recall = accuracy\")\n",
    "print(\"f1 score macro average:\", round((f1_score_class_4 + f1_score_class_2) / 2, 2))\n",
    "print(\"f1 score weighted average:\", round((f1_score_class_2 * prfs[3][0] / total_support) + \\\n",
    "                                      (f1_score_class_4 * prfs[3][1] / total_support), 2))\n",
    "print()\n",
    "\n",
    "print()\n",
    "print(metrics.classification_report(y_test, y_pred = pred))\n",
    "\n",
    "\n",
    "# CONFUSION MATRIX\n",
    "# confusion matrix\n",
    "cm = metrics.confusion_matrix(y_test, y_pred = pred)\n",
    "'''\n",
    "[   \n",
    "    [TN, FP]\n",
    "    [FN, TP]\n",
    "]\n",
    "'''\n",
    "cm_display = metrics.ConfusionMatrixDisplay(confusion_matrix = cm, display_labels = [2, 4])\n",
    "cm_display.plot()\n",
    "\n",
    "TP = 53\n",
    "FP = 2\n",
    "FN = 5\n",
    "TN = 77\n",
    "\n",
    "print(\"confusion matrix accuracy:\", round((TP + TN) / (TP + FP + TN + FN), 2))\n",
    "print(\"confusion matrix precision:\", round(TP / (TP + FP), 2))\n",
    "print(\"confusion matrix recall:\", round(TP / (TP + FN), 2))\n",
    "print(\"confusion matrix f1 score:\", round(TP / (TP + ((FP + FN) / 2) ), 2))"
   ]
  },
  {
   "cell_type": "markdown",
   "id": "d70a875d",
   "metadata": {},
   "source": [
    "# K-Fold Cross Validation using cross_val_score"
   ]
  },
  {
   "cell_type": "code",
   "execution_count": 84,
   "id": "7c615672",
   "metadata": {},
   "outputs": [
    {
     "name": "stdout",
     "output_type": "stream",
     "text": [
      "accuracy score: 0.9707800511508949\n",
      "precision score: 0.9657450080253417\n",
      "recall score: 0.9717276021080368\n",
      "f1 score: 0.9681726249206258\n"
     ]
    }
   ],
   "source": [
    "# using library\n",
    "# we can average = [macro, micro, weighted]\n",
    "# we use macro because: https://towardsdatascience.com/micro-macro-weighted-averages-of-f1-score-clearly-explained-b603420b292f\n",
    "accuracy = metrics.make_scorer(metrics.accuracy_score)\n",
    "precision = metrics.make_scorer(metrics.precision_score, average = 'macro')\n",
    "recall = metrics.make_scorer(metrics.recall_score, average = 'macro')\n",
    "f1 = metrics.make_scorer(metrics.f1_score, average = 'macro')\n",
    "\n",
    "accuracy_score = cross_val_score(clf, X, y, scoring = accuracy, cv = 10)\n",
    "precision_score = cross_val_score(clf, X, y, scoring = precision, cv = 10)\n",
    "recall_score = cross_val_score(clf, X, y, scoring = recall, cv = 10)\n",
    "f1_score = cross_val_score(clf, X, y, scoring = f1, cv = 10)\n",
    "\n",
    "print(\"accuracy score:\", accuracy_score.mean())\n",
    "print(\"precision score:\", precision_score.mean())\n",
    "print(\"recall score:\",recall_score.mean())\n",
    "print(\"f1 score:\", f1_score.mean())\n",
    "    "
   ]
  },
  {
   "cell_type": "markdown",
   "id": "5934b5f1",
   "metadata": {},
   "source": [
    "# Confusion Matrix"
   ]
  },
  {
   "cell_type": "markdown",
   "id": "dd37e532",
   "metadata": {},
   "source": [
    "## confusion matrix for Kfold Cross Validation\n",
    "[Plotting a Confusion Matrix from a K-Fold Cross Validation](https://towardsdatascience.com/how-to-plot-a-confusion-matrix-from-a-k-fold-cross-validation-b607317e9874)"
   ]
  },
  {
   "cell_type": "code",
   "execution_count": null,
   "id": "89aa2329",
   "metadata": {},
   "outputs": [],
   "source": []
  }
 ],
 "metadata": {
  "kernelspec": {
   "display_name": "Python 3 (ipykernel)",
   "language": "python",
   "name": "python3"
  },
  "language_info": {
   "codemirror_mode": {
    "name": "ipython",
    "version": 3
   },
   "file_extension": ".py",
   "mimetype": "text/x-python",
   "name": "python",
   "nbconvert_exporter": "python",
   "pygments_lexer": "ipython3",
   "version": "3.9.7"
  }
 },
 "nbformat": 4,
 "nbformat_minor": 5
}
